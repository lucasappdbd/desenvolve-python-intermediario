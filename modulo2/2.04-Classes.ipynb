{
 "cells": [
  {
   "cell_type": "markdown",
   "metadata": {},
   "source": [
    "> Projeto Desenvolve <br>\n",
    "Programação Intermediária com Python <br>\n",
    "Profa. Camila Laranjeira (mila@projetodesenvolve.com.br) <br>\n",
    "\n",
    "# 2.4 - Classes, atributos e métodos"
   ]
  },
  {
   "cell_type": "markdown",
   "metadata": {},
   "source": [
    "## Exercícios\n",
    "\n",
    "#### Q1.\n",
    "Vamos criar aos pouquinhos uma classe Evento que registra eventos de um calendário. Pra começar, nessa questão você deve:\n",
    "\n",
    "* Criar uma classe chamada Evento\n",
    "* Adicionar um atributo de classe `total_eventos` que será usado para contar o número total de eventos (instâncias de classe) criadas.\n",
    "* Implemente o método construtor que deve receber os parâmetros `titulo` (`string`), `data_hora` (`datetime`), `descrição` (`string`). Crie e inicialize um atributo de instância para cada um dos parâmetros citados.\n",
    "* O construtor também deve inicializar um atributo de instância `is_concluido = False`. Esse atributo será utilizado mais à frente. \n",
    "* No construtor você também deve incrementar o atributo de classe `total_eventos` em 1 a cada nova instância criada.\n",
    "\n",
    "Teste o seu código criando duas diferentes instâncias de evento (preencha os atributos como quiser) e imprimindo todos os seus atributos (de classe e de instância).\n",
    "\n",
    "> Consulte [este tutorial biblioteca `datetime`](https://www.w3schools.com/python/python_datetime.asp) caso não esteja familiarizado."
   ]
  },
  {
   "cell_type": "code",
   "execution_count": 1,
   "metadata": {
    "vscode": {
     "languageId": "plaintext"
    }
   },
   "outputs": [
    {
     "name": "stdout",
     "output_type": "stream",
     "text": [
      "Título: Aula de Python\n",
      "Data e Hora: 2025-06-18 10:00:00\n",
      "Descrição: Programação intermediária\n",
      "Concluído: False\n",
      "------------------------------\n",
      "Título: Banco de Dados\n",
      "Data e Hora: 2025-06-20 15:30:00\n",
      "Descrição: Acesso ao banco de dados MySQL\n",
      "Concluído: False\n",
      "------------------------------\n",
      "Total de eventos criados: 2\n"
     ]
    }
   ],
   "source": [
    "from datetime import datetime\n",
    "\n",
    "class Evento:\n",
    "    total_eventos = 0\n",
    "\n",
    "    def __init__(self, titulo, data_hora, descricao):\n",
    "        self.titulo = titulo\n",
    "        self.data_hora = data_hora\n",
    "        self.descricao = descricao\n",
    "        self.is_concluido = False\n",
    "        Evento.total_eventos += 1\n",
    "\n",
    "evento1 = Evento(\"Aula de Python\", datetime(2025, 6, 18, 10, 0), \"Programação intermediária\") # criando evento\n",
    "evento2 = Evento(\"Banco de Dados\", datetime(2025, 6, 20, 15, 30), \"Acesso ao banco de dados MySQL\") # criando evento\n",
    "\n",
    "eventos = [evento1, evento2]\n",
    "\n",
    "for evento in eventos: # exibindo os eventos\n",
    "    print(\"Título:\", evento.titulo)\n",
    "    print(\"Data e Hora:\", evento.data_hora)\n",
    "    print(\"Descrição:\", evento.descricao)\n",
    "    print(\"Concluído:\", evento.is_concluido)\n",
    "    print(\"-\" * 30)\n",
    "    \n",
    "print(\"Total de eventos criados:\", Evento.total_eventos)"
   ]
  },
  {
   "cell_type": "markdown",
   "metadata": {},
   "source": [
    "#### Q2.\n",
    "Agora vamos adicionar métodos à nossa classe. Lembre dos diferentes decoradores que aprendemos. Você deve redefinir a classe com os seguintes métodos:\n",
    "* Um método `isConcluido()` que avalia se a `data_hora` do evento é menor que `datetime.now()` (a data e hora atual). Em caso positivo, atualiza o atributo de instância `is_concluido` para o valor `True`. \n",
    "* Um método de classe `num_eventos()` que retorna o valor do atributo de classe `total_eventos`.\n",
    "* Um método estático `valida_evento(nome, data_hora, descricao)` que recebe os atributos de um evento e testa os tipos de cada variável, retornando `True` caso todos estejam corretos e `False` caso contrário. Para o teste, use a função nativa do Python [`isinstance`](https://www.w3schools.com/python/ref_func_isinstance.asp).\n",
    "\n",
    "Para testar sua classe atualizada:\n",
    "* Crie uma instância de Evento com valor passado e chame o método `isConcluido()` para a instância criada. Em seguida imprima o atributo `is_concluido`. \n",
    "* Invoque o método de classe `num_eventos()` a partir da classe Evento (ou seja, sem criar nenhuma instância).\n",
    "* Chame o método estático `valida_evento()` a partir da classe Evento. Experimente passar valores corretos e incorretos. \n"
   ]
  },
  {
   "cell_type": "code",
   "execution_count": 2,
   "metadata": {
    "vscode": {
     "languageId": "plaintext"
    }
   },
   "outputs": [
    {
     "name": "stdout",
     "output_type": "stream",
     "text": [
      "Evento concluído? True\n",
      "Número total de eventos: 1\n",
      "Evento válido? True\n",
      "Evento válido? False\n"
     ]
    }
   ],
   "source": [
    "from datetime import datetime\n",
    "\n",
    "class Evento:\n",
    "    total_eventos = 0\n",
    "\n",
    "    def __init__(self, titulo, data_hora, descricao):\n",
    "        self.titulo = titulo\n",
    "        self.data_hora = data_hora\n",
    "        self.descricao = descricao\n",
    "        self.is_concluido = False\n",
    "        Evento.total_eventos += 1\n",
    "\n",
    "    def isConcluido(self): # verifica se o evento já passou\n",
    "        if self.data_hora < datetime.now():\n",
    "            self.is_concluido = True\n",
    "        return self.is_concluido\n",
    "\n",
    "    @classmethod\n",
    "    def num_eventos(cls):\n",
    "        return cls.total_eventos\n",
    "        \n",
    "    @staticmethod\n",
    "    def valida_evento(nome, data_hora, descricao):\n",
    "        return (isinstance(nome, str) and\n",
    "                isinstance(data_hora, datetime) and\n",
    "                isinstance(descricao, str))\n",
    "\n",
    "evento_passado = Evento(\"Evento passado\", datetime(2024, 6, 1, 12, 0), \"Descrição antiga\") # criando evento com data passada\n",
    "\n",
    "evento_passado.isConcluido()\n",
    "print(\"Evento concluído?\", evento_passado.is_concluido)  # verifica se o evento está concluído\n",
    "\n",
    "print(\"Número total de eventos:\", Evento.num_eventos())  # exibe o número de eventos com o método de classe\n",
    "\n",
    "# Testando o método estático com dados corretos\n",
    "valido = Evento.valida_evento(\"Festa\", datetime(2025, 7, 20, 18, 0), \"Comemoração\") # criando evento válido\n",
    "print(\"Evento válido?\", valido) # exibe se o evento é válido (True)\n",
    "\n",
    "# Testando o método estático com dados incorretos\n",
    "invalido = Evento.valida_evento(123, \"2025-07-20\", 45.6) # criando evento inválido\n",
    "print(\"Evento válido?\", invalido) # exibe se o evento é válido (False)"
   ]
  },
  {
   "cell_type": "markdown",
   "metadata": {
    "vscode": {
     "languageId": "plaintext"
    }
   },
   "source": [
    "#### Q3.\n",
    "\n",
    "Vamos incluir métodos mágicos! ✨🪄🔮\n",
    "\n",
    "Redefina a classe incluindo\":\n",
    "* Método `__str__` que imprime os atributos do evento na forma `\"Evento: titulo, Data: data_hora, Descrição: descricao, Concluido: is_concluido\"`.\n",
    "* Implemente os métodos de comparação `__eq__`, `__ne__`, `__lt__`, `__le__`, `__gt__` e `__ge__` para comparar eventos baseados no atributo `data_hora`. Esses métodos devem comparar duas instâncias de Evento e retornar os resultados apropriados (`True` ou `False`).\n",
    "\n",
    "Para testar, crie duas instâncias de Evento com datas diferentes. Imprima as instâncias com a função `print()` e apresente o resultado das comparações entre eventos (`==`, `!=`, `<`, `<=`, `>`, `>=`)."
   ]
  },
  {
   "cell_type": "code",
   "execution_count": 3,
   "metadata": {
    "vscode": {
     "languageId": "plaintext"
    }
   },
   "outputs": [
    {
     "name": "stdout",
     "output_type": "stream",
     "text": [
      "Evento A: Evento: Aula de Python, Data: 2025-06-18 14:00:00, Descrição: Programação intermediária, Concluído: True\n",
      "Evento B: Evento: Banco de Dados, Data: 2025-06-19 09:00:00, Descrição: Acesso ao banco de dados MySQL, Concluído: True\n",
      "\n",
      "Comparações:\n",
      "A == B: False\n",
      "A != B: True\n",
      "A < B: True\n",
      "A <= B: True\n",
      "A > B: False\n",
      "A >= B: False\n"
     ]
    }
   ],
   "source": [
    "from datetime import datetime\n",
    "\n",
    "class Evento:\n",
    "    total_eventos = 0\n",
    "\n",
    "    def __init__(self, titulo, data_hora, descricao):\n",
    "        self.titulo = titulo\n",
    "        self.data_hora = data_hora\n",
    "        self.descricao = descricao\n",
    "        self.is_concluido = False\n",
    "        Evento.total_eventos += 1\n",
    "\n",
    "    def isConcluido(self):\n",
    "        if self.data_hora < datetime.now():\n",
    "            self.is_concluido = True\n",
    "        return self.is_concluido\n",
    "\n",
    "    @classmethod\n",
    "    def num_eventos(cls):\n",
    "        return cls.total_eventos\n",
    "\n",
    "    @staticmethod\n",
    "    def valida_evento(nome, data_hora, descricao):\n",
    "        return (isinstance(nome, str) and\n",
    "                isinstance(data_hora, datetime) and\n",
    "                isinstance(descricao, str))\n",
    "\n",
    "    ##### método mágico para exibição:\n",
    "    def __str__(self):\n",
    "        return (f\"Evento: {self.titulo}, Data: {self.data_hora}, \"\n",
    "                f\"Descrição: {self.descricao}, Concluído: {self.is_concluido}\")\n",
    "\n",
    "    ##### métodos mágicos de comparação baseados em data_hora\n",
    "    def __eq__(self, other):\n",
    "        return self.data_hora == other.data_hora\n",
    "    def __ne__(self, other):\n",
    "        return self.data_hora != other.data_hora\n",
    "    def __lt__(self, other):\n",
    "        return self.data_hora < other.data_hora\n",
    "    def __le__(self, other):\n",
    "        return self.data_hora <= other.data_hora\n",
    "    def __gt__(self, other):\n",
    "        return self.data_hora > other.data_hora\n",
    "    def __ge__(self, other):\n",
    "        return self.data_hora >= other.data_hora\n",
    "    \n",
    "evento_a = Evento(\"Aula de Python\", datetime(2025, 6, 18, 14, 0), \"Programação intermediária\") # criando evento\n",
    "evento_b = Evento(\"Banco de Dados\", datetime(2025, 6, 19, 9, 0), \"Acesso ao banco de dados MySQL\") # criando evento\n",
    "\n",
    "# testando se os eventos foram concluídos\n",
    "evento_a.isConcluido()\n",
    "evento_b.isConcluido()\n",
    "\n",
    "# testando método mágico __str__\n",
    "print(\"Evento A:\", evento_a)\n",
    "print(\"Evento B:\", evento_b)\n",
    "\n",
    "# testando os métodos mágicos de comparação\n",
    "print(\"\\nComparações:\")\n",
    "print(\"A == B:\", evento_a == evento_b)\n",
    "print(\"A != B:\", evento_a != evento_b)\n",
    "print(\"A < B:\", evento_a < evento_b)\n",
    "print(\"A <= B:\", evento_a <= evento_b)\n",
    "print(\"A > B:\", evento_a > evento_b)\n",
    "print(\"A >= B:\", evento_a >= evento_b)"
   ]
  }
 ],
 "metadata": {
  "kernelspec": {
   "display_name": "Python 3 (ipykernel)",
   "language": "python",
   "name": "python3"
  },
  "language_info": {
   "codemirror_mode": {
    "name": "ipython",
    "version": 3
   },
   "file_extension": ".py",
   "mimetype": "text/x-python",
   "name": "python",
   "nbconvert_exporter": "python",
   "pygments_lexer": "ipython3",
   "version": "3.12.3"
  }
 },
 "nbformat": 4,
 "nbformat_minor": 4
}
