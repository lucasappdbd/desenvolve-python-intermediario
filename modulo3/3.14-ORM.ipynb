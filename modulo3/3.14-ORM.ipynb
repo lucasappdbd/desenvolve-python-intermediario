{
 "cells": [
  {
   "cell_type": "markdown",
   "metadata": {},
   "source": [
    "> Projeto Desenvolve <br>\n",
    "Programação Intermediária com Python <br>\n",
    "Profa. Camila Laranjeira (mila@projetodesenvolve.com.br) <br>\n",
    "\n",
    "# 3.14 - ORM"
   ]
  },
  {
   "cell_type": "markdown",
   "metadata": {},
   "source": [
    "## Exercícios\n",
    "\n",
    "#### Q1. Conhecendo os dados\n",
    "Baixe o seguinte csv onde iremos trabalhar. Ele contém informações sobre salários de profissionais de dados de uma empresa hipotética entre 2009 e 2016\n",
    "* https://github.com/camilalaranjeira/python-intermediario/blob/main/salaries.csv\n",
    "\n",
    "Suas colunas, descritas na [página do Kaggle que contém o dataset](https://www.kaggle.com/datasets/krishujeniya/salary-prediction-of-data-professions?resource=download), são:\n",
    "* FIRST NAME: Primeiro nome do profissional de dados (String)\n",
    "* LAST NAME: Sobrenome do profissional de dados (String)\n",
    "* SEX: Gênero do profissional de dados (String: 'F' para Feminino, 'M' para Masculino)\n",
    "* DOJ (Date of Joining): A data em que o profissional de dados ingressou na empresa (Data no formato MM/DD/AAAA)\n",
    "* CURRENT DATE: A data atual ou a data de referência dos dados (Data no formato MM/DD/AAAA)\n",
    "* DESIGNATION: O cargo ou designação do profissional de dados (String: ex., Analista, Analista Sênior, Gerente)\n",
    "* AGE: Idade do profissional de dados (Integer)\n",
    "* SALARY: Salário anual do profissional de dados (Float)\n",
    "* UNIT: Unidade de negócios ou departamento em que o profissional de dados trabalha (String: ex., TI, Finanças, Marketing)\n",
    "* LEAVES USED: Número de licenças utilizadas pelo profissional de dados (Integer)\n",
    "* LEAVES REMAINING: Número de licenças restantes para o profissional de dados (Integer)\n",
    "* RATINGS: Avaliações de desempenho do profissional de dados (Float)\n",
    "* PAST EXP: Experiência de trabalho anterior em anos antes de ingressar na empresa atual (Float)\n",
    "\n",
    "Na célula a seguir, **carregue os dados do CSV e dê uma olhada neles antes de seguir**."
   ]
  },
  {
   "cell_type": "code",
   "execution_count": 1,
   "metadata": {
    "vscode": {
     "languageId": "plaintext"
    }
   },
   "outputs": [
    {
     "name": "stdout",
     "output_type": "stream",
     "text": [
      "  FIRST NAME   LAST NAME SEX         DOJ CURRENT DATE DESIGNATION   AGE  \\\n",
      "0     TOMASA       ARMEN   F   5-18-2014   01-07-2016     Analyst  21.0   \n",
      "1      ANNIE         NaN   F         NaN   01-07-2016   Associate   NaN   \n",
      "2      OLIVE        ANCY   F   7-28-2014   01-07-2016     Analyst  21.0   \n",
      "3     CHERRY     AQUILAR   F  04-03-2013   01-07-2016     Analyst  22.0   \n",
      "4       LEON  ABOULAHOUD   M  11-20-2014   01-07-2016     Analyst   NaN   \n",
      "\n",
      "   SALARY        UNIT  LEAVES USED  LEAVES REMAINING  RATINGS  PAST EXP  \n",
      "0   44570     Finance         24.0               6.0      2.0         0  \n",
      "1   89207         Web          NaN              13.0      NaN         7  \n",
      "2   40955     Finance         23.0               7.0      3.0         0  \n",
      "3   45550          IT         22.0               8.0      3.0         0  \n",
      "4   43161  Operations         27.0               3.0      NaN         3  \n",
      "<class 'pandas.core.frame.DataFrame'>\n",
      "RangeIndex: 2639 entries, 0 to 2638\n",
      "Data columns (total 13 columns):\n",
      " #   Column            Non-Null Count  Dtype  \n",
      "---  ------            --------------  -----  \n",
      " 0   FIRST NAME        2639 non-null   object \n",
      " 1   LAST NAME         2637 non-null   object \n",
      " 2   SEX               2639 non-null   object \n",
      " 3   DOJ               2638 non-null   object \n",
      " 4   CURRENT DATE      2639 non-null   object \n",
      " 5   DESIGNATION       2639 non-null   object \n",
      " 6   AGE               2636 non-null   float64\n",
      " 7   SALARY            2639 non-null   int64  \n",
      " 8   UNIT              2639 non-null   object \n",
      " 9   LEAVES USED       2636 non-null   float64\n",
      " 10  LEAVES REMAINING  2637 non-null   float64\n",
      " 11  RATINGS           2637 non-null   float64\n",
      " 12  PAST EXP          2639 non-null   int64  \n",
      "dtypes: float64(4), int64(2), object(7)\n",
      "memory usage: 268.2+ KB\n",
      "None\n"
     ]
    }
   ],
   "source": [
    "### Escreva sua resposta aqui\n",
    "import pandas as pd\n",
    "\n",
    "df = pd.read_csv('salaries.csv')\n",
    "print(df.head())\n",
    "print(df.info())"
   ]
  },
  {
   "cell_type": "markdown",
   "metadata": {},
   "source": [
    "#### Q2. Modelando os dados\n",
    "Você deve **criar um ORM com SQLAlchemy capaz de comportar os dados dessa base**.\n",
    "\n",
    "* Crie um campo de chave primária `ID`, que deve ser incrementado automaticamente\n",
    "* Os campos SEX, DESIGNATION e UNIT devem ser definidos como classes `Enum` com os possíveis valores (consulte os valores únicos dessas colunas)\n",
    "* Para os outros campos, consulte os tipos de dados informados na descrição acima"
   ]
  },
  {
   "cell_type": "code",
   "execution_count": 2,
   "metadata": {
    "vscode": {
     "languageId": "plaintext"
    }
   },
   "outputs": [],
   "source": [
    "### Escreva sua resposta aqui\n",
    "from enum import Enum\n",
    "from sqlalchemy import Column, Integer, String, Float, Date, Enum as SqlEnum\n",
    "from sqlalchemy.orm import declarative_base\n",
    "\n",
    "class SexEnum(Enum):\n",
    "    F = \"F\"\n",
    "    M = \"M\"\n",
    "\n",
    "class DesignationEnum(Enum):\n",
    "    ANALYST = \"Analyst\"\n",
    "    ASSOCIATE = \"Associate\"\n",
    "    SENIOR_ANALYST = \"Senior Analyst\"\n",
    "    SENIOR_MANAGER = \"Senior Manager\"\n",
    "    MANAGER = \"Manager\"\n",
    "    DIRECTOR = \"Director\"\n",
    "\n",
    "class UnitEnum(Enum):\n",
    "    FINANCE = \"Finance\"\n",
    "    WEB = \"Web\"\n",
    "    IT = \"IT\"\n",
    "    OPERATIONS = \"Operations\"\n",
    "    MARKETING = \"Marketing\"\n",
    "    MANAGEMENT = \"Management\"\n",
    "\n",
    "Base = declarative_base()\n",
    "\n",
    "class Employee(Base):\n",
    "    __tablename__ = 'employees'\n",
    "\n",
    "    id = Column(Integer, primary_key=True, autoincrement=True)\n",
    "    first_name = Column(String)\n",
    "    last_name = Column(String)\n",
    "    sex = Column(SqlEnum(SexEnum, native_enum=False))\n",
    "    doj = Column(Date)\n",
    "    current_date = Column(Date)\n",
    "    designation = Column(SqlEnum(DesignationEnum, native_enum=False))\n",
    "    age = Column(Integer)\n",
    "    salary = Column(Float)\n",
    "    unit = Column(SqlEnum(UnitEnum, native_enum=False))\n",
    "    leaves_used = Column(Integer)\n",
    "    leaves_remaining = Column(Integer)\n",
    "    ratings = Column(Float)\n",
    "    past_exp = Column(Float)"
   ]
  },
  {
   "cell_type": "markdown",
   "metadata": {
    "vscode": {
     "languageId": "plaintext"
    }
   },
   "source": [
    "#### Q3. Estabelecendo uma conexão\n",
    "\n",
    "Usando o método `create_engine` do SQLAlchemy, crie uma conexão com um novo banco de dados SQLite chamado `salarios`."
   ]
  },
  {
   "cell_type": "code",
   "execution_count": 3,
   "metadata": {
    "vscode": {
     "languageId": "plaintext"
    }
   },
   "outputs": [],
   "source": [
    "### Escreva sua resposta aqui\n",
    "from sqlalchemy import create_engine\n",
    "\n",
    "engine = create_engine('sqlite:///salarios.db', echo=True)"
   ]
  },
  {
   "cell_type": "markdown",
   "metadata": {},
   "source": [
    "#### Q4. Criando as tabelas\n",
    "Crie as tabelas da questão Q2 no banco `salarios`."
   ]
  },
  {
   "cell_type": "code",
   "execution_count": 4,
   "metadata": {
    "vscode": {
     "languageId": "plaintext"
    }
   },
   "outputs": [
    {
     "name": "stdout",
     "output_type": "stream",
     "text": [
      "2025-07-02 19:55:50,330 INFO sqlalchemy.engine.Engine BEGIN (implicit)\n",
      "2025-07-02 19:55:50,331 INFO sqlalchemy.engine.Engine PRAGMA main.table_info(\"employees\")\n",
      "2025-07-02 19:55:50,332 INFO sqlalchemy.engine.Engine [raw sql] ()\n",
      "2025-07-02 19:55:50,333 INFO sqlalchemy.engine.Engine COMMIT\n"
     ]
    }
   ],
   "source": [
    "### Escreva sua resposta aqui\n",
    "Base.metadata.create_all(engine)"
   ]
  },
  {
   "cell_type": "markdown",
   "metadata": {},
   "source": [
    "#### Q5. Populando\n",
    "\n",
    "Usando o método `to_sql` da biblioteca Pandas (veja [a documentação](https://pandas.pydata.org/docs/reference/api/pandas.DataFrame.to_sql.html)), popule o banco `salarios` com os dados do csv que você carregou na questão Q1.\n",
    "* Lembre-se de definir o parâmetro `if_exists='append'` para que as tabelas não sejam dropadas e recriadas."
   ]
  },
  {
   "cell_type": "code",
   "execution_count": 5,
   "metadata": {
    "vscode": {
     "languageId": "plaintext"
    }
   },
   "outputs": [
    {
     "name": "stdout",
     "output_type": "stream",
     "text": [
      "2025-07-02 19:55:50,344 INFO sqlalchemy.engine.Engine BEGIN (implicit)\n",
      "2025-07-02 19:55:50,347 INFO sqlalchemy.engine.Engine PRAGMA main.table_info(\"employees\")\n",
      "2025-07-02 19:55:50,348 INFO sqlalchemy.engine.Engine [raw sql] ()\n",
      "2025-07-02 19:55:50,375 INFO sqlalchemy.engine.Engine INSERT INTO employees (first_name, last_name, sex, doj, \"current_date\", designation, age, salary, unit, leaves_used, leaves_remaining, ratings, past_exp) VALUES (?, ?, ?, ?, ?, ?, ?, ?, ?, ?, ?, ?, ?)\n",
      "2025-07-02 19:55:50,375 INFO sqlalchemy.engine.Engine [generated in 0.02058s] (('TOMASA', 'ARMEN', 'F', '2014-05-18 00:00:00.000000', '2016-01-07 00:00:00.000000', 'Analyst', 21.0, 44570, 'Finance', 24.0, 6.0, 2.0, 0), ('ANNIE', None, 'F', None, '2016-01-07 00:00:00.000000', 'Associate', None, 89207, 'Web', None, 13.0, None, 7), ('OLIVE', 'ANCY', 'F', '2014-07-28 00:00:00.000000', '2016-01-07 00:00:00.000000', 'Analyst', 21.0, 40955, 'Finance', 23.0, 7.0, 3.0, 0), ('CHERRY', 'AQUILAR', 'F', '2013-04-03 00:00:00.000000', '2016-01-07 00:00:00.000000', 'Analyst', 22.0, 45550, 'IT', 22.0, 8.0, 3.0, 0), ('LEON', 'ABOULAHOUD', 'M', '2014-11-20 00:00:00.000000', '2016-01-07 00:00:00.000000', 'Analyst', None, 43161, 'Operations', 27.0, 3.0, None, 3), ('VICTORIA', None, 'F', '2013-02-19 00:00:00.000000', '2016-01-07 00:00:00.000000', 'Analyst', 22.0, 48736, 'Marketing', 20.0, 10.0, 4.0, 0), ('ELLIOT', 'AGULAR', 'M', '2013-09-02 00:00:00.000000', '2016-01-07 00:00:00.000000', 'Analyst', 22.0, 40339, 'Marketing', 19.0, 11.0, 5.0, 0), ('JACQUES', 'AKMAL', 'M', '2013-12-05 00:00:00.000000', '2016-01-07 00:00:00.000000', 'Analyst', None, 40058, 'Marketing', 29.0, 1.0, 2.0, 2)  ... displaying 10 of 2639 total bound parameter sets ...  ('TERI', 'ANASTASIO', 'F', '2014-03-17 00:00:00.000000', '2016-01-07 00:00:00.000000', 'Analyst', 24.0, 45172, 'Web', 23.0, 7.0, 3.0, 1), ('GREGORY', 'ABARCA', 'M', '2014-09-18 00:00:00.000000', '2016-01-07 00:00:00.000000', 'Analyst', 24.0, 49176, 'Marketing', 17.0, 13.0, 2.0, 2))\n",
      "2025-07-02 19:55:50,381 INFO sqlalchemy.engine.Engine COMMIT\n"
     ]
    },
    {
     "data": {
      "text/plain": [
       "2639"
      ]
     },
     "execution_count": 5,
     "metadata": {},
     "output_type": "execute_result"
    }
   ],
   "source": [
    "### Escreva sua resposta aqui\n",
    "df['DOJ'] = pd.to_datetime(df['DOJ'])\n",
    "df['CURRENT DATE'] = pd.to_datetime(df['CURRENT DATE'])\n",
    "\n",
    "df.columns = [col.lower().replace(' ', '_') for col in df.columns] # renomeia colunas para bater com os nomes da tabela\n",
    "\n",
    "df.to_sql('employees', con=engine, if_exists='append', index=False) # insere os dados na tabela"
   ]
  },
  {
   "cell_type": "markdown",
   "metadata": {},
   "source": [
    "#### Q6. Consultas SQL vs ORM\n",
    "\n",
    "Agrupe os dados por DESIGNATION e selecione o mínimo, máximo e a média dos salários (SALARY) divididos por 12. Já que o atributo SALARY é anual, dividir por 12 nos mostrará os valores mensais.\n",
    "\n",
    "Assumindo que a variável que armazena a sua conexão se chama `engine`, você deve realizar a query acima de três formas:\n",
    "* Executando a query SQL através de uma instância de conexão retornada pelo método `engine.connect()`\n",
    "* Executando a query SQL com o método `read_sql_query` do Pandas (veja [a documentação](https://pandas.pydata.org/docs/reference/api/pandas.read_sql_query.html)). Você usará mesma instância `engine.connect()` como um dos parâmetros.\n",
    "* Executando uma query criada com o módulo `select` do SQLAlchemy. Sua execução deve ser feita através de um objeto `Session` do módulo `orm` do SQLAlchemy (`Session(engine)`).\n"
   ]
  },
  {
   "cell_type": "code",
   "execution_count": 6,
   "metadata": {
    "vscode": {
     "languageId": "plaintext"
    }
   },
   "outputs": [
    {
     "name": "stdout",
     "output_type": "stream",
     "text": [
      "2025-07-02 19:55:50,392 INFO sqlalchemy.engine.Engine \n",
      "        SELECT designation,\n",
      "               MIN(salary)/12 AS min_salary_monthly,\n",
      "               MAX(salary)/12 AS max_salary_monthly,\n",
      "               AVG(salary)/12 AS avg_salary_monthly\n",
      "        FROM employees\n",
      "        GROUP BY designation\n",
      "        ORDER BY designation\n",
      "    \n",
      "2025-07-02 19:55:50,393 INFO sqlalchemy.engine.Engine [generated in 0.00071s] ()\n",
      "('Analyst', 3333.4166666666665, 4165.0, 3751.675987685993)\n",
      "('Associate', 5846.166666666667, 8300.25, 7266.915094339623)\n",
      "('Director', 17832.25, 32342.666666666668, 23914.265625)\n",
      "('Manager', 8343.666666666666, 12407.5, 10522.716049382716)\n",
      "('Senior Analyst', 4170.333333333333, 5830.5, 4991.778792134832)\n",
      "('Senior Manager', 12614.416666666666, 16631.416666666668, 14888.689516129032)\n"
     ]
    }
   ],
   "source": [
    "### Execute aqui sua query SQL com SQLAlchemy\n",
    "from sqlalchemy import text\n",
    "\n",
    "with engine.connect() as connection:\n",
    "    query = text(\"\"\"\n",
    "        SELECT designation,\n",
    "               MIN(salary)/12 AS min_salary_monthly,\n",
    "               MAX(salary)/12 AS max_salary_monthly,\n",
    "               AVG(salary)/12 AS avg_salary_monthly\n",
    "        FROM employees\n",
    "        GROUP BY designation\n",
    "        ORDER BY designation\n",
    "    \"\"\")\n",
    "    result = connection.execute(query)\n",
    "    \n",
    "    for row in result:\n",
    "        print(row)"
   ]
  },
  {
   "cell_type": "code",
   "execution_count": 7,
   "metadata": {
    "vscode": {
     "languageId": "plaintext"
    }
   },
   "outputs": [
    {
     "name": "stdout",
     "output_type": "stream",
     "text": [
      "2025-07-02 19:55:50,402 INFO sqlalchemy.engine.Engine \n",
      "        SELECT designation,\n",
      "               MIN(salary)/12 AS min_salary_monthly,\n",
      "               MAX(salary)/12 AS max_salary_monthly,\n",
      "               AVG(salary)/12 AS avg_salary_monthly\n",
      "        FROM employees\n",
      "        GROUP BY designation\n",
      "        ORDER BY designation\n",
      "    \n",
      "2025-07-02 19:55:50,403 INFO sqlalchemy.engine.Engine [raw sql] ()\n",
      "      designation  min_salary_monthly  max_salary_monthly  avg_salary_monthly\n",
      "0         Analyst         3333.416667         4165.000000         3751.675988\n",
      "1       Associate         5846.166667         8300.250000         7266.915094\n",
      "2        Director        17832.250000        32342.666667        23914.265625\n",
      "3         Manager         8343.666667        12407.500000        10522.716049\n",
      "4  Senior Analyst         4170.333333         5830.500000         4991.778792\n",
      "5  Senior Manager        12614.416667        16631.416667        14888.689516\n"
     ]
    }
   ],
   "source": [
    "### Execute aqui sua query SQL com SQLAlchemy + Pandas\n",
    "with engine.connect() as connection:\n",
    "    query = \"\"\"\n",
    "        SELECT designation,\n",
    "               MIN(salary)/12 AS min_salary_monthly,\n",
    "               MAX(salary)/12 AS max_salary_monthly,\n",
    "               AVG(salary)/12 AS avg_salary_monthly\n",
    "        FROM employees\n",
    "        GROUP BY designation\n",
    "        ORDER BY designation\n",
    "    \"\"\"\n",
    "    df_grouped = pd.read_sql_query(query, con=connection)\n",
    "\n",
    "print(df_grouped)"
   ]
  },
  {
   "cell_type": "code",
   "execution_count": 8,
   "metadata": {
    "vscode": {
     "languageId": "plaintext"
    }
   },
   "outputs": [
    {
     "name": "stdout",
     "output_type": "stream",
     "text": [
      "2025-07-02 19:55:50,411 INFO sqlalchemy.engine.Engine BEGIN (implicit)\n",
      "2025-07-02 19:55:50,415 INFO sqlalchemy.engine.Engine SELECT CAST(employees.designation AS VARCHAR) AS designation, min(employees.salary) / ? AS min_salary_monthly, max(employees.salary) / ? AS max_salary_monthly, avg(employees.salary) / ? AS avg_salary_monthly \n",
      "FROM employees GROUP BY employees.designation ORDER BY employees.designation\n",
      "2025-07-02 19:55:50,415 INFO sqlalchemy.engine.Engine [generated in 0.00068s] (12, 12, 12)\n",
      "('Analyst', 3333.4166666666665, 4165.0, 3751.675987685993)\n",
      "('Associate', 5846.166666666667, 8300.25, 7266.915094339623)\n",
      "('Director', 17832.25, 32342.666666666668, 23914.265625)\n",
      "('Manager', 8343.666666666666, 12407.5, 10522.716049382716)\n",
      "('Senior Analyst', 4170.333333333333, 5830.5, 4991.778792134832)\n",
      "('Senior Manager', 12614.416666666666, 16631.416666666668, 14888.689516129032)\n",
      "2025-07-02 19:55:50,418 INFO sqlalchemy.engine.Engine ROLLBACK\n"
     ]
    }
   ],
   "source": [
    "### Execute aqui sua query com SQLAlchemy ORM\n",
    "from sqlalchemy.orm import Session\n",
    "from sqlalchemy import select, func, cast, String\n",
    "\n",
    "with Session(engine) as session:\n",
    "    stmt = (\n",
    "        select(\n",
    "            cast(Employee.designation, String).label(\"designation\"),\n",
    "            (func.min(Employee.salary) / 12).label(\"min_salary_monthly\"),\n",
    "            (func.max(Employee.salary) / 12).label(\"max_salary_monthly\"),\n",
    "            (func.avg(Employee.salary) / 12).label(\"avg_salary_monthly\"),\n",
    "        )\n",
    "        .group_by(Employee.designation)\n",
    "        .order_by(Employee.designation)\n",
    "    )\n",
    "\n",
    "    result = session.execute(stmt).all()\n",
    "\n",
    "    for row in result:\n",
    "        print(row)"
   ]
  }
 ],
 "metadata": {
  "kernelspec": {
   "display_name": "Python 3 (ipykernel)",
   "language": "python",
   "name": "python3"
  },
  "language_info": {
   "codemirror_mode": {
    "name": "ipython",
    "version": 3
   },
   "file_extension": ".py",
   "mimetype": "text/x-python",
   "name": "python",
   "nbconvert_exporter": "python",
   "pygments_lexer": "ipython3",
   "version": "3.12.3"
  }
 },
 "nbformat": 4,
 "nbformat_minor": 4
}
