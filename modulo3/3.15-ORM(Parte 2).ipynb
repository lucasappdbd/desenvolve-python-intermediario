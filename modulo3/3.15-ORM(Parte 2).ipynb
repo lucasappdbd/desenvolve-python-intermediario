{
 "cells": [
  {
   "cell_type": "markdown",
   "metadata": {},
   "source": [
    "## Exercícios\n",
    "\n",
    "> Retirados de [learn-python: sqlalchemy_orm-questions](https://aviadr1.github.io/learn-advanced-python/11_db_access/exercise/sqlalchemy_orm-questions.html).\n",
    "\n",
    "#### Q1.\n",
    "\n",
    "Baixa e extraia o arquivo compactado com o banco de dados [Chinook database](https://www.sqlitetutorial.net/sqlite-sample-database/). Salve o arquivo `chinook.db` na mesma pasta deste script.\n",
    "* Link para baixar: http://www.sqlitetutorial.net/wp-content/uploads/2018/03/chinook.zip\n",
    "\n",
    "<img width=500 src=https://www.sqlitetutorial.net/wp-content/uploads/2015/11/sqlite-sample-database-color.jpg>\n"
   ]
  },
  {
   "cell_type": "markdown",
   "metadata": {},
   "source": [
    "#### Q2.\n",
    "\n",
    "Leia o código e os comentários das células a seguir para entender como acessamos os modelos ORM de um banco já existente."
   ]
  },
  {
   "cell_type": "code",
   "execution_count": 1,
   "metadata": {
    "vscode": {
     "languageId": "plaintext"
    }
   },
   "outputs": [
    {
     "name": "stdout",
     "output_type": "stream",
     "text": [
      "albums\n",
      "['AlbumId', 'Title', 'ArtistId']\n",
      "[('AlbumId', Column('AlbumId', INTEGER(), table=<albums>, primary_key=True, nullable=False)), ('Title', Column('Title', NVARCHAR(length=160), table=<albums>, nullable=False)), ('ArtistId', Column('ArtistId', INTEGER(), ForeignKey('artists.ArtistId'), table=<albums>, nullable=False))]\n",
      "-------------------------\n",
      "artists\n",
      "['ArtistId', 'Name']\n",
      "[('ArtistId', Column('ArtistId', INTEGER(), table=<artists>, primary_key=True, nullable=False)), ('Name', Column('Name', NVARCHAR(length=120), table=<artists>))]\n",
      "-------------------------\n",
      "customers\n",
      "['CustomerId', 'FirstName', 'LastName', 'Company', 'Address', 'City', 'State', 'Country', 'PostalCode', 'Phone', 'Fax', 'Email', 'SupportRepId']\n",
      "[('CustomerId', Column('CustomerId', INTEGER(), table=<customers>, primary_key=True, nullable=False)), ('FirstName', Column('FirstName', NVARCHAR(length=40), table=<customers>, nullable=False)), ('LastName', Column('LastName', NVARCHAR(length=20), table=<customers>, nullable=False)), ('Company', Column('Company', NVARCHAR(length=80), table=<customers>)), ('Address', Column('Address', NVARCHAR(length=70), table=<customers>)), ('City', Column('City', NVARCHAR(length=40), table=<customers>)), ('State', Column('State', NVARCHAR(length=40), table=<customers>)), ('Country', Column('Country', NVARCHAR(length=40), table=<customers>)), ('PostalCode', Column('PostalCode', NVARCHAR(length=10), table=<customers>)), ('Phone', Column('Phone', NVARCHAR(length=24), table=<customers>)), ('Fax', Column('Fax', NVARCHAR(length=24), table=<customers>)), ('Email', Column('Email', NVARCHAR(length=60), table=<customers>, nullable=False)), ('SupportRepId', Column('SupportRepId', INTEGER(), ForeignKey('employees.EmployeeId'), table=<customers>))]\n",
      "-------------------------\n",
      "employees\n",
      "['EmployeeId', 'LastName', 'FirstName', 'Title', 'ReportsTo', 'BirthDate', 'HireDate', 'Address', 'City', 'State', 'Country', 'PostalCode', 'Phone', 'Fax', 'Email']\n",
      "[('EmployeeId', Column('EmployeeId', INTEGER(), table=<employees>, primary_key=True, nullable=False)), ('LastName', Column('LastName', NVARCHAR(length=20), table=<employees>, nullable=False)), ('FirstName', Column('FirstName', NVARCHAR(length=20), table=<employees>, nullable=False)), ('Title', Column('Title', NVARCHAR(length=30), table=<employees>)), ('ReportsTo', Column('ReportsTo', INTEGER(), ForeignKey('employees.EmployeeId'), table=<employees>)), ('BirthDate', Column('BirthDate', DATETIME(), table=<employees>)), ('HireDate', Column('HireDate', DATETIME(), table=<employees>)), ('Address', Column('Address', NVARCHAR(length=70), table=<employees>)), ('City', Column('City', NVARCHAR(length=40), table=<employees>)), ('State', Column('State', NVARCHAR(length=40), table=<employees>)), ('Country', Column('Country', NVARCHAR(length=40), table=<employees>)), ('PostalCode', Column('PostalCode', NVARCHAR(length=10), table=<employees>)), ('Phone', Column('Phone', NVARCHAR(length=24), table=<employees>)), ('Fax', Column('Fax', NVARCHAR(length=24), table=<employees>)), ('Email', Column('Email', NVARCHAR(length=60), table=<employees>))]\n",
      "-------------------------\n",
      "genres\n",
      "['GenreId', 'Name']\n",
      "[('GenreId', Column('GenreId', INTEGER(), table=<genres>, primary_key=True, nullable=False)), ('Name', Column('Name', NVARCHAR(length=120), table=<genres>))]\n",
      "-------------------------\n",
      "invoice_items\n",
      "['InvoiceLineId', 'InvoiceId', 'TrackId', 'UnitPrice', 'Quantity']\n",
      "[('InvoiceLineId', Column('InvoiceLineId', INTEGER(), table=<invoice_items>, primary_key=True, nullable=False)), ('InvoiceId', Column('InvoiceId', INTEGER(), ForeignKey('invoices.InvoiceId'), table=<invoice_items>, nullable=False)), ('TrackId', Column('TrackId', INTEGER(), ForeignKey('tracks.TrackId'), table=<invoice_items>, nullable=False)), ('UnitPrice', Column('UnitPrice', NUMERIC(precision=10, scale=2), table=<invoice_items>, nullable=False)), ('Quantity', Column('Quantity', INTEGER(), table=<invoice_items>, nullable=False))]\n",
      "-------------------------\n",
      "invoices\n",
      "['InvoiceId', 'CustomerId', 'InvoiceDate', 'BillingAddress', 'BillingCity', 'BillingState', 'BillingCountry', 'BillingPostalCode', 'Total']\n",
      "[('InvoiceId', Column('InvoiceId', INTEGER(), table=<invoices>, primary_key=True, nullable=False)), ('CustomerId', Column('CustomerId', INTEGER(), ForeignKey('customers.CustomerId'), table=<invoices>, nullable=False)), ('InvoiceDate', Column('InvoiceDate', DATETIME(), table=<invoices>, nullable=False)), ('BillingAddress', Column('BillingAddress', NVARCHAR(length=70), table=<invoices>)), ('BillingCity', Column('BillingCity', NVARCHAR(length=40), table=<invoices>)), ('BillingState', Column('BillingState', NVARCHAR(length=40), table=<invoices>)), ('BillingCountry', Column('BillingCountry', NVARCHAR(length=40), table=<invoices>)), ('BillingPostalCode', Column('BillingPostalCode', NVARCHAR(length=10), table=<invoices>)), ('Total', Column('Total', NUMERIC(precision=10, scale=2), table=<invoices>, nullable=False))]\n",
      "-------------------------\n",
      "tracks\n",
      "['TrackId', 'Name', 'AlbumId', 'MediaTypeId', 'GenreId', 'Composer', 'Milliseconds', 'Bytes', 'UnitPrice']\n",
      "[('TrackId', Column('TrackId', INTEGER(), table=<tracks>, primary_key=True, nullable=False)), ('Name', Column('Name', NVARCHAR(length=200), table=<tracks>, nullable=False)), ('AlbumId', Column('AlbumId', INTEGER(), ForeignKey('albums.AlbumId'), table=<tracks>)), ('MediaTypeId', Column('MediaTypeId', INTEGER(), ForeignKey('media_types.MediaTypeId'), table=<tracks>, nullable=False)), ('GenreId', Column('GenreId', INTEGER(), ForeignKey('genres.GenreId'), table=<tracks>)), ('Composer', Column('Composer', NVARCHAR(length=220), table=<tracks>)), ('Milliseconds', Column('Milliseconds', INTEGER(), table=<tracks>, nullable=False)), ('Bytes', Column('Bytes', INTEGER(), table=<tracks>)), ('UnitPrice', Column('UnitPrice', NUMERIC(precision=10, scale=2), table=<tracks>, nullable=False))]\n",
      "-------------------------\n",
      "media_types\n",
      "['MediaTypeId', 'Name']\n",
      "[('MediaTypeId', Column('MediaTypeId', INTEGER(), table=<media_types>, primary_key=True, nullable=False)), ('Name', Column('Name', NVARCHAR(length=120), table=<media_types>))]\n",
      "-------------------------\n",
      "playlist_track\n",
      "['PlaylistId', 'TrackId']\n",
      "[('PlaylistId', Column('PlaylistId', INTEGER(), ForeignKey('playlists.PlaylistId'), table=<playlist_track>, primary_key=True, nullable=False)), ('TrackId', Column('TrackId', INTEGER(), ForeignKey('tracks.TrackId'), table=<playlist_track>, primary_key=True, nullable=False))]\n",
      "-------------------------\n",
      "playlists\n",
      "['PlaylistId', 'Name']\n",
      "[('PlaylistId', Column('PlaylistId', INTEGER(), table=<playlists>, primary_key=True, nullable=False)), ('Name', Column('Name', NVARCHAR(length=120), table=<playlists>))]\n",
      "-------------------------\n",
      "sqlite_sequence\n",
      "['name', 'seq']\n",
      "[('name', Column('name', NullType(), table=<sqlite_sequence>)), ('seq', Column('seq', NullType(), table=<sqlite_sequence>))]\n",
      "-------------------------\n",
      "sqlite_stat1\n",
      "['tbl', 'idx', 'stat']\n",
      "[('tbl', Column('tbl', NullType(), table=<sqlite_stat1>)), ('idx', Column('idx', NullType(), table=<sqlite_stat1>)), ('stat', Column('stat', NullType(), table=<sqlite_stat1>))]\n",
      "-------------------------\n",
      "[('albums', <class 'sqlalchemy.ext.automap.albums'>), ('artists', <class 'sqlalchemy.ext.automap.artists'>), ('customers', <class 'sqlalchemy.ext.automap.customers'>), ('employees', <class 'sqlalchemy.ext.automap.employees'>), ('genres', <class 'sqlalchemy.ext.automap.genres'>), ('invoice_items', <class 'sqlalchemy.ext.automap.invoice_items'>), ('invoices', <class 'sqlalchemy.ext.automap.invoices'>), ('tracks', <class 'sqlalchemy.ext.automap.tracks'>), ('media_types', <class 'sqlalchemy.ext.automap.media_types'>), ('playlists', <class 'sqlalchemy.ext.automap.playlists'>)]\n"
     ]
    }
   ],
   "source": [
    "from sqlalchemy import create_engine, text, MetaData, select # adicionei select devido a erro na célula 2\n",
    "from sqlalchemy.orm import Session\n",
    "\n",
    "engine = create_engine(\"sqlite+pysqlite:///chinook.db\", echo=False)\n",
    "\n",
    "### extrai as classes da base de dados Chinook\n",
    "metadata = MetaData()\n",
    "metadata.reflect(engine)\n",
    "\n",
    "# O metadata tem informações sobre as tabelas\n",
    "# que serão usadas para criar os modelos ORM\n",
    "for table_name, table in metadata.tables.items():\n",
    "    print(table_name)\n",
    "    print(table.columns.keys())\n",
    "    print(table.columns.items())\n",
    "    print('-'*25)\n",
    "\n",
    "### configura o objeto Base mapeando os modelos ORM das tabelas\n",
    "from sqlalchemy.ext.automap import automap_base\n",
    "Base = automap_base(metadata=metadata)\n",
    "Base.prepare()\n",
    "\n",
    "# o objeto Base tem os modelos ORM que podemos usar\n",
    "# para manipular o banco de dados\n",
    "print(Base.classes.items())"
   ]
  },
  {
   "cell_type": "code",
   "execution_count": 2,
   "metadata": {
    "vscode": {
     "languageId": "plaintext"
    }
   },
   "outputs": [
    {
     "name": "stdout",
     "output_type": "stream",
     "text": [
      "1 For Those About To Rock We Salute You\n"
     ]
    }
   ],
   "source": [
    "# A seguir um exemplo de query na tabela Albums\n",
    "# usamos o objeto Base para acessar cada modelo ORM.\n",
    "\n",
    "session = Session(engine)\n",
    "res = session.scalars(select(Base.classes.albums))\n",
    "first_album = res.first()\n",
    "print(first_album.AlbumId, first_album.Title)"
   ]
  },
  {
   "cell_type": "markdown",
   "metadata": {},
   "source": [
    "#### Q3. \n",
    "Com base nos códigos anteriores realize as operações solicitadas nas células a seguir:\n"
   ]
  },
  {
   "cell_type": "code",
   "execution_count": 3,
   "metadata": {
    "vscode": {
     "languageId": "plaintext"
    }
   },
   "outputs": [
    {
     "name": "stdout",
     "output_type": "stream",
     "text": [
      "1 For Those About To Rock (We Salute You)\n",
      "2 Balls to the Wall\n",
      "3 Fast As a Shark\n"
     ]
    },
    {
     "name": "stderr",
     "output_type": "stream",
     "text": [
      "/tmp/ipykernel_17167/1612725063.py:3: SAWarning: Dialect sqlite+pysqlite does *not* support Decimal objects natively, and SQLAlchemy must convert from floating point - rounding errors and other issues may occur. Please consider storing Decimal numbers as strings or integers on this platform for lossless storage.\n",
      "  res = session.scalars(select(tracks).limit(3))\n"
     ]
    }
   ],
   "source": [
    "### Imprima os três primeiros registros da tabela tracks\n",
    "tracks = Base.classes.tracks\n",
    "res = session.scalars(select(tracks).limit(3))\n",
    "for track in res:\n",
    "    print(track.TrackId, track.Name)"
   ]
  },
  {
   "cell_type": "code",
   "execution_count": 4,
   "metadata": {
    "vscode": {
     "languageId": "plaintext"
    }
   },
   "outputs": [
    {
     "name": "stdout",
     "output_type": "stream",
     "text": [
      "Faixa: For Those About To Rock (We Salute You) - Álbum: For Those About To Rock We Salute You\n",
      "Faixa: Put The Finger On You - Álbum: For Those About To Rock We Salute You\n",
      "Faixa: Let's Get It Up - Álbum: For Those About To Rock We Salute You\n",
      "Faixa: Inject The Venom - Álbum: For Those About To Rock We Salute You\n",
      "Faixa: Snowballed - Álbum: For Those About To Rock We Salute You\n",
      "Faixa: Evil Walks - Álbum: For Those About To Rock We Salute You\n",
      "Faixa: C.O.D. - Álbum: For Those About To Rock We Salute You\n",
      "Faixa: Breaking The Rules - Álbum: For Those About To Rock We Salute You\n",
      "Faixa: Night Of The Long Knives - Álbum: For Those About To Rock We Salute You\n",
      "Faixa: Spellbound - Álbum: For Those About To Rock We Salute You\n",
      "Faixa: Balls to the Wall - Álbum: Balls to the Wall\n",
      "Faixa: Fast As a Shark - Álbum: Restless and Wild\n",
      "Faixa: Restless and Wild - Álbum: Restless and Wild\n",
      "Faixa: Princess of the Dawn - Álbum: Restless and Wild\n",
      "Faixa: Go Down - Álbum: Let There Be Rock\n",
      "Faixa: Dog Eat Dog - Álbum: Let There Be Rock\n",
      "Faixa: Let There Be Rock - Álbum: Let There Be Rock\n",
      "Faixa: Bad Boy Boogie - Álbum: Let There Be Rock\n",
      "Faixa: Problem Child - Álbum: Let There Be Rock\n",
      "Faixa: Overdose - Álbum: Let There Be Rock\n"
     ]
    }
   ],
   "source": [
    "### Imprima o nome da faixa e o título do álbum das primeiras 20 faixas na tabela tracks.\n",
    "from sqlalchemy import select, join\n",
    "\n",
    "tracks = Base.classes.tracks\n",
    "albums = Base.classes.albums\n",
    "\n",
    "stmt = (\n",
    "    select(tracks.Name, albums.Title)\n",
    "    .join(albums, tracks.AlbumId == albums.AlbumId)\n",
    "    .limit(20)\n",
    ")\n",
    "\n",
    "res = session.execute(stmt).all()\n",
    "for track_name, album_title in res:\n",
    "    print(f\"Faixa: {track_name} - Álbum: {album_title}\")"
   ]
  },
  {
   "cell_type": "code",
   "execution_count": 5,
   "metadata": {
    "vscode": {
     "languageId": "plaintext"
    }
   },
   "outputs": [
    {
     "name": "stdout",
     "output_type": "stream",
     "text": [
      "Faixa: Balls to the Wall - Quantidade vendida: 1\n",
      "Faixa: Restless and Wild - Quantidade vendida: 1\n",
      "Faixa: Put The Finger On You - Quantidade vendida: 1\n",
      "Faixa: Inject The Venom - Quantidade vendida: 1\n",
      "Faixa: Evil Walks - Quantidade vendida: 1\n",
      "Faixa: Breaking The Rules - Quantidade vendida: 1\n",
      "Faixa: Dog Eat Dog - Quantidade vendida: 1\n",
      "Faixa: Overdose - Quantidade vendida: 1\n",
      "Faixa: Love In An Elevator - Quantidade vendida: 1\n",
      "Faixa: Janie's Got A Gun - Quantidade vendida: 1\n"
     ]
    }
   ],
   "source": [
    "### Imprima as 10 primeiras vendas de faixas da tabela invoice_items\n",
    "### Para essas 10 primeiras vendas, imprima os nomes das faixas vendidas e a quantidade vendida.\n",
    "invoice_items = Base.classes.invoice_items\n",
    "tracks = Base.classes.tracks\n",
    "\n",
    "stmt = (\n",
    "    select(invoice_items.Quantity, tracks.Name)\n",
    "    .join(tracks, invoice_items.TrackId == tracks.TrackId)\n",
    "    .limit(10)\n",
    ")\n",
    "\n",
    "res = session.execute(stmt).all()\n",
    "for quantity, track_name in res:\n",
    "    print(f\"Faixa: {track_name} - Quantidade vendida: {quantity}\")"
   ]
  },
  {
   "cell_type": "code",
   "execution_count": 6,
   "metadata": {
    "vscode": {
     "languageId": "plaintext"
    }
   },
   "outputs": [
    {
     "name": "stdout",
     "output_type": "stream",
     "text": [
      "Faixa: Balls to the Wall - Total vendido: 2\n",
      "Faixa: Inject The Venom - Total vendido: 2\n",
      "Faixa: Snowballed - Total vendido: 2\n",
      "Faixa: Overdose - Total vendido: 2\n",
      "Faixa: Deuces Are Wild - Total vendido: 2\n",
      "Faixa: Not The Doctor - Total vendido: 2\n",
      "Faixa: Por Causa De Você - Total vendido: 2\n",
      "Faixa: Welcome Home (Sanitarium) - Total vendido: 2\n",
      "Faixa: Snowblind - Total vendido: 2\n",
      "Faixa: Cornucopia - Total vendido: 2\n"
     ]
    }
   ],
   "source": [
    "### Imprima os nomes das 10 faixas mais vendidas e quantas vezes foram vendidas.\n",
    "from sqlalchemy import func, desc\n",
    "\n",
    "stmt = (\n",
    "    select(tracks.Name, func.sum(invoice_items.Quantity).label(\"total_vendido\"))\n",
    "    .join(invoice_items, tracks.TrackId == invoice_items.TrackId)\n",
    "    .group_by(tracks.TrackId)\n",
    "    .order_by(desc(\"total_vendido\"))\n",
    "    .limit(10)\n",
    ")\n",
    "\n",
    "res = session.execute(stmt).all()\n",
    "for track_name, total in res:\n",
    "    print(f\"Faixa: {track_name} - Total vendido: {total}\")"
   ]
  },
  {
   "cell_type": "code",
   "execution_count": 7,
   "metadata": {
    "vscode": {
     "languageId": "plaintext"
    }
   },
   "outputs": [
    {
     "name": "stdout",
     "output_type": "stream",
     "text": [
      "Artista: Iron Maiden - Total vendido: 140\n",
      "Artista: U2 - Total vendido: 107\n",
      "Artista: Metallica - Total vendido: 91\n",
      "Artista: Led Zeppelin - Total vendido: 87\n",
      "Artista: Os Paralamas Do Sucesso - Total vendido: 45\n",
      "Artista: Deep Purple - Total vendido: 44\n",
      "Artista: Faith No More - Total vendido: 42\n",
      "Artista: Lost - Total vendido: 41\n",
      "Artista: Eric Clapton - Total vendido: 40\n",
      "Artista: R.E.M. - Total vendido: 39\n"
     ]
    }
   ],
   "source": [
    "### Quem são os 10 artistas que mais venderam?\n",
    "### dica: você precisa juntar as tabelas invoice_items, tracks, albums e artists\n",
    "artists = Base.classes.artists\n",
    "albums = Base.classes.albums\n",
    "tracks = Base.classes.tracks\n",
    "invoice_items = Base.classes.invoice_items\n",
    "\n",
    "stmt = (\n",
    "    select(artists.Name, func.sum(invoice_items.Quantity).label(\"total_vendido\"))\n",
    "    .join(albums, albums.ArtistId == artists.ArtistId)\n",
    "    .join(tracks, tracks.AlbumId == albums.AlbumId)\n",
    "    .join(invoice_items, invoice_items.TrackId == tracks.TrackId)\n",
    "    .group_by(artists.ArtistId)\n",
    "    .order_by(desc(\"total_vendido\"))\n",
    "    .limit(10)\n",
    ")\n",
    "\n",
    "res = session.execute(stmt).all()\n",
    "for artist_name, total in res:\n",
    "    print(f\"Artista: {artist_name} - Total vendido: {total}\")"
   ]
  }
 ],
 "metadata": {
  "kernelspec": {
   "display_name": "Python 3 (ipykernel)",
   "language": "python",
   "name": "python3"
  },
  "language_info": {
   "codemirror_mode": {
    "name": "ipython",
    "version": 3
   },
   "file_extension": ".py",
   "mimetype": "text/x-python",
   "name": "python",
   "nbconvert_exporter": "python",
   "pygments_lexer": "ipython3",
   "version": "3.12.3"
  }
 },
 "nbformat": 4,
 "nbformat_minor": 4
}
